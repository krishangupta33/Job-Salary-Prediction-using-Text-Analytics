{
 "cells": [
  {
   "cell_type": "code",
   "execution_count": 4,
   "metadata": {},
   "outputs": [],
   "source": [
    "\n",
    "\n",
    "import pandas as pd\n",
    "import numpy as np\n",
    "from sklearn.model_selection import train_test_split\n"
   ]
  },
  {
   "cell_type": "code",
   "execution_count": 6,
   "metadata": {},
   "outputs": [
    {
     "name": "stdout",
     "output_type": "stream",
     "text": [
      "(2000, 12)\n",
      "(500, 12)\n"
     ]
    }
   ],
   "source": [
    "# Randomly select 2500 data points from the training dataset (“Train_rev1.csv”) for ease of analysis. Then \n",
    "# split the 2500 data points into training (80%) and test (20%) sets.\n",
    "\n",
    "def split_data():\n",
    "    # Load the data\n",
    "    data = pd.read_csv('data/Train_rev1.csv')\n",
    "    # Randomly select 2500 data points\n",
    "    data = data.sample(n=2500)\n",
    "    # Split the data\n",
    "    train, test = train_test_split(data, test_size=0.2)\n",
    "    return train, test\n",
    "\n",
    "train, test = split_data()\n",
    "\n",
    "print(train.shape)\n",
    "print(test.shape)"
   ]
  },
  {
   "cell_type": "code",
   "execution_count": 9,
   "metadata": {},
   "outputs": [
    {
     "data": {
      "text/html": [
       "<div>\n",
       "<style scoped>\n",
       "    .dataframe tbody tr th:only-of-type {\n",
       "        vertical-align: middle;\n",
       "    }\n",
       "\n",
       "    .dataframe tbody tr th {\n",
       "        vertical-align: top;\n",
       "    }\n",
       "\n",
       "    .dataframe thead th {\n",
       "        text-align: right;\n",
       "    }\n",
       "</style>\n",
       "<table border=\"1\" class=\"dataframe\">\n",
       "  <thead>\n",
       "    <tr style=\"text-align: right;\">\n",
       "      <th></th>\n",
       "      <th>Id</th>\n",
       "      <th>Title</th>\n",
       "      <th>FullDescription</th>\n",
       "      <th>LocationRaw</th>\n",
       "      <th>LocationNormalized</th>\n",
       "      <th>ContractType</th>\n",
       "      <th>ContractTime</th>\n",
       "      <th>Company</th>\n",
       "      <th>Category</th>\n",
       "      <th>SalaryRaw</th>\n",
       "      <th>SalaryNormalized</th>\n",
       "      <th>SourceName</th>\n",
       "    </tr>\n",
       "  </thead>\n",
       "  <tbody>\n",
       "    <tr>\n",
       "      <th>0</th>\n",
       "      <td>68092952</td>\n",
       "      <td>Head Chef</td>\n",
       "      <td>Joining a thriving restaurant that is forever ...</td>\n",
       "      <td>Bury, Lancashire Lancashire North West</td>\n",
       "      <td>UK</td>\n",
       "      <td>NaN</td>\n",
       "      <td>permanent</td>\n",
       "      <td>Established Restaurant</td>\n",
       "      <td>Hospitality &amp; Catering Jobs</td>\n",
       "      <td>From 25,000 to 32,000 per annum + Bonus</td>\n",
       "      <td>28500</td>\n",
       "      <td>totaljobs.com</td>\n",
       "    </tr>\n",
       "    <tr>\n",
       "      <th>1</th>\n",
       "      <td>70676461</td>\n",
       "      <td>Concept Mechanical Engineer</td>\n",
       "      <td>EXCELLENT OPPORTUNITY **** CONCEPT MECHANICAL ...</td>\n",
       "      <td>Leicester,Northampton,Coventry,Milton Keynes,L...</td>\n",
       "      <td>UK</td>\n",
       "      <td>NaN</td>\n",
       "      <td>contract</td>\n",
       "      <td>ATA Recruitment Ltd</td>\n",
       "      <td>Engineering Jobs</td>\n",
       "      <td>40 per hour</td>\n",
       "      <td>76800</td>\n",
       "      <td>jobsite.co.uk</td>\n",
       "    </tr>\n",
       "    <tr>\n",
       "      <th>2</th>\n",
       "      <td>68689043</td>\n",
       "      <td>Senior Media Analyst</td>\n",
       "      <td>An immediate opportunity has arisen for an exp...</td>\n",
       "      <td>City London South East</td>\n",
       "      <td>London</td>\n",
       "      <td>NaN</td>\n",
       "      <td>permanent</td>\n",
       "      <td>Randstad Financial &amp; Professional</td>\n",
       "      <td>Creative &amp; Design Jobs</td>\n",
       "      <td>37000 - 42000 per annum + Study Support, Bonus...</td>\n",
       "      <td>39500</td>\n",
       "      <td>totaljobs.com</td>\n",
       "    </tr>\n",
       "    <tr>\n",
       "      <th>3</th>\n",
       "      <td>71091854</td>\n",
       "      <td>Deputy Manager  Liverpool</td>\n",
       "      <td>Deputy Manager – Job Description NEW YEAR, NEW...</td>\n",
       "      <td>Liverpool</td>\n",
       "      <td>Liverpool</td>\n",
       "      <td>full_time</td>\n",
       "      <td>NaN</td>\n",
       "      <td>Cardea Resourcing</td>\n",
       "      <td>Healthcare &amp; Nursing Jobs</td>\n",
       "      <td>27,000 - 27,300/Year</td>\n",
       "      <td>27150</td>\n",
       "      <td>staffnurse.com</td>\n",
       "    </tr>\n",
       "    <tr>\n",
       "      <th>4</th>\n",
       "      <td>68706364</td>\n",
       "      <td>Hotel Contract Manager French Market</td>\n",
       "      <td>Contracts Manager Based in London OR Paris ***...</td>\n",
       "      <td>West London London South East</td>\n",
       "      <td>East Sheen</td>\n",
       "      <td>NaN</td>\n",
       "      <td>permanent</td>\n",
       "      <td>New Frontiers</td>\n",
       "      <td>Travel Jobs</td>\n",
       "      <td>30k - 38k per year</td>\n",
       "      <td>34000</td>\n",
       "      <td>totaljobs.com</td>\n",
       "    </tr>\n",
       "  </tbody>\n",
       "</table>\n",
       "</div>"
      ],
      "text/plain": [
       "         Id                                 Title  \\\n",
       "0  68092952                             Head Chef   \n",
       "1  70676461           Concept Mechanical Engineer   \n",
       "2  68689043                  Senior Media Analyst   \n",
       "3  71091854             Deputy Manager  Liverpool   \n",
       "4  68706364  Hotel Contract Manager French Market   \n",
       "\n",
       "                                     FullDescription  \\\n",
       "0  Joining a thriving restaurant that is forever ...   \n",
       "1  EXCELLENT OPPORTUNITY **** CONCEPT MECHANICAL ...   \n",
       "2  An immediate opportunity has arisen for an exp...   \n",
       "3  Deputy Manager – Job Description NEW YEAR, NEW...   \n",
       "4  Contracts Manager Based in London OR Paris ***...   \n",
       "\n",
       "                                         LocationRaw LocationNormalized  \\\n",
       "0             Bury, Lancashire Lancashire North West                 UK   \n",
       "1  Leicester,Northampton,Coventry,Milton Keynes,L...                 UK   \n",
       "2                             City London South East             London   \n",
       "3                                          Liverpool          Liverpool   \n",
       "4                      West London London South East         East Sheen   \n",
       "\n",
       "  ContractType ContractTime                            Company  \\\n",
       "0          NaN    permanent             Established Restaurant   \n",
       "1          NaN     contract                ATA Recruitment Ltd   \n",
       "2          NaN    permanent  Randstad Financial & Professional   \n",
       "3    full_time          NaN                  Cardea Resourcing   \n",
       "4          NaN    permanent                      New Frontiers   \n",
       "\n",
       "                      Category  \\\n",
       "0  Hospitality & Catering Jobs   \n",
       "1             Engineering Jobs   \n",
       "2       Creative & Design Jobs   \n",
       "3    Healthcare & Nursing Jobs   \n",
       "4                  Travel Jobs   \n",
       "\n",
       "                                           SalaryRaw  SalaryNormalized  \\\n",
       "0            From 25,000 to 32,000 per annum + Bonus             28500   \n",
       "1                                        40 per hour             76800   \n",
       "2  37000 - 42000 per annum + Study Support, Bonus...             39500   \n",
       "3                               27,000 - 27,300/Year             27150   \n",
       "4                                 30k - 38k per year             34000   \n",
       "\n",
       "       SourceName  \n",
       "0   totaljobs.com  \n",
       "1   jobsite.co.uk  \n",
       "2   totaljobs.com  \n",
       "3  staffnurse.com  \n",
       "4   totaljobs.com  "
      ]
     },
     "execution_count": 9,
     "metadata": {},
     "output_type": "execute_result"
    }
   ],
   "source": [
    "#reset index\n",
    "train = train.reset_index(drop=True)\n",
    "test = test.reset_index(drop=True)\n",
    "\n",
    "train.head()"
   ]
  },
  {
   "cell_type": "code",
   "execution_count": 11,
   "metadata": {},
   "outputs": [
    {
     "name": "stdout",
     "output_type": "stream",
     "text": [
      "75th percentile salary 42500.0\n"
     ]
    }
   ],
   "source": [
    "#target column = high if salary >= 75% percentile otherwise low\n",
    "salary_75 = train['SalaryNormalized'].quantile(0.75)\n",
    "print('75th percentile salary',salary_75)\n",
    "\n",
    "train['target'] = np.where(train['SalaryNormalized'] >= salary_75, 'high', 'low')\n",
    "test['target'] = np.where(test['SalaryNormalized'] >= salary_75, 'high', 'low')\n",
    "\n",
    "\n"
   ]
  },
  {
   "cell_type": "code",
   "execution_count": 18,
   "metadata": {},
   "outputs": [
    {
     "data": {
      "text/plain": [
       "((2000, 2), (500, 2))"
      ]
     },
     "execution_count": 18,
     "metadata": {},
     "output_type": "execute_result"
    }
   ],
   "source": [
    "train = train[['FullDescription', 'target']]\n",
    "test = test[['FullDescription', 'target']]\n",
    "\n",
    "train.to_csv('data Pre-Processed/train.csv', index=False)\n",
    "test.to_csv('data Pre-Processed/test.csv', index=False)\n",
    "\n",
    "train.shape, test.shape"
   ]
  },
  {
   "cell_type": "code",
   "execution_count": 19,
   "metadata": {},
   "outputs": [
    {
     "data": {
      "text/html": [
       "<div>\n",
       "<style scoped>\n",
       "    .dataframe tbody tr th:only-of-type {\n",
       "        vertical-align: middle;\n",
       "    }\n",
       "\n",
       "    .dataframe tbody tr th {\n",
       "        vertical-align: top;\n",
       "    }\n",
       "\n",
       "    .dataframe thead th {\n",
       "        text-align: right;\n",
       "    }\n",
       "</style>\n",
       "<table border=\"1\" class=\"dataframe\">\n",
       "  <thead>\n",
       "    <tr style=\"text-align: right;\">\n",
       "      <th></th>\n",
       "      <th>FullDescription</th>\n",
       "      <th>target</th>\n",
       "    </tr>\n",
       "  </thead>\n",
       "  <tbody>\n",
       "    <tr>\n",
       "      <th>0</th>\n",
       "      <td>Joining a thriving restaurant that is forever ...</td>\n",
       "      <td>low</td>\n",
       "    </tr>\n",
       "    <tr>\n",
       "      <th>1</th>\n",
       "      <td>EXCELLENT OPPORTUNITY **** CONCEPT MECHANICAL ...</td>\n",
       "      <td>high</td>\n",
       "    </tr>\n",
       "    <tr>\n",
       "      <th>2</th>\n",
       "      <td>An immediate opportunity has arisen for an exp...</td>\n",
       "      <td>low</td>\n",
       "    </tr>\n",
       "    <tr>\n",
       "      <th>3</th>\n",
       "      <td>Deputy Manager – Job Description NEW YEAR, NEW...</td>\n",
       "      <td>low</td>\n",
       "    </tr>\n",
       "    <tr>\n",
       "      <th>4</th>\n",
       "      <td>Contracts Manager Based in London OR Paris ***...</td>\n",
       "      <td>low</td>\n",
       "    </tr>\n",
       "  </tbody>\n",
       "</table>\n",
       "</div>"
      ],
      "text/plain": [
       "                                     FullDescription target\n",
       "0  Joining a thriving restaurant that is forever ...    low\n",
       "1  EXCELLENT OPPORTUNITY **** CONCEPT MECHANICAL ...   high\n",
       "2  An immediate opportunity has arisen for an exp...    low\n",
       "3  Deputy Manager – Job Description NEW YEAR, NEW...    low\n",
       "4  Contracts Manager Based in London OR Paris ***...    low"
      ]
     },
     "execution_count": 19,
     "metadata": {},
     "output_type": "execute_result"
    }
   ],
   "source": [
    "train.head()"
   ]
  },
  {
   "cell_type": "code",
   "execution_count": 24,
   "metadata": {},
   "outputs": [
    {
     "data": {
      "text/plain": [
       "(target\n",
       " low     1485\n",
       " high     515\n",
       " Name: count, dtype: int64,\n",
       " target\n",
       " low     0.7425\n",
       " high    0.2575\n",
       " Name: proportion, dtype: float64)"
      ]
     },
     "execution_count": 24,
     "metadata": {},
     "output_type": "execute_result"
    }
   ],
   "source": [
    "#target count and percentage\n",
    "train['target'].value_counts(), train['target'].value_counts(normalize=True)\n",
    "\n",
    "\n",
    "\n"
   ]
  },
  {
   "cell_type": "code",
   "execution_count": 69,
   "metadata": {},
   "outputs": [
    {
     "data": {
      "text/plain": [
       "(target\n",
       " low     381\n",
       " high    119\n",
       " Name: count, dtype: int64,\n",
       " target\n",
       " low     0.762\n",
       " high    0.238\n",
       " Name: proportion, dtype: float64)"
      ]
     },
     "execution_count": 69,
     "metadata": {},
     "output_type": "execute_result"
    }
   ],
   "source": [
    "#target count and percentage\n",
    "test['target'].value_counts(), test['target'].value_counts(normalize=True)\n"
   ]
  },
  {
   "cell_type": "code",
   "execution_count": 76,
   "metadata": {},
   "outputs": [
    {
     "name": "stderr",
     "output_type": "stream",
     "text": [
      "[nltk_data] Downloading package punkt to /Users/krishan/nltk_data...\n",
      "[nltk_data]   Package punkt is already up-to-date!\n",
      "[nltk_data] Downloading package stopwords to\n",
      "[nltk_data]     /Users/krishan/nltk_data...\n",
      "[nltk_data]   Package stopwords is already up-to-date!\n"
     ]
    },
    {
     "data": {
      "text/plain": [
       "True"
      ]
     },
     "execution_count": 76,
     "metadata": {},
     "output_type": "execute_result"
    }
   ],
   "source": [
    "from sklearn.model_selection import train_test_split\n",
    "from sklearn.feature_extraction.text import TfidfVectorizer\n",
    "from sklearn.naive_bayes import MultinomialNB\n",
    "from sklearn.naive_bayes import GaussianNB\n",
    "from sklearn.metrics import confusion_matrix, accuracy_score\n",
    "from sklearn.pipeline import make_pipeline\n",
    "import matplotlib.pyplot as plt\n",
    "import numpy as np\n",
    "from nltk.corpus import stopwords\n",
    "from nltk.tokenize import word_tokenize\n",
    "import re\n",
    "import nltk\n",
    "from sklearn.naive_bayes import BernoulliNB\n",
    "\n",
    "\n",
    "# Download NLTK stopwords\n",
    "nltk.download('punkt')\n",
    "nltk.download('stopwords')"
   ]
  },
  {
   "cell_type": "code",
   "execution_count": 59,
   "metadata": {},
   "outputs": [
    {
     "name": "stderr",
     "output_type": "stream",
     "text": [
      "[nltk_data] Downloading package wordnet to /Users/krishan/nltk_data...\n",
      "[nltk_data]   Package wordnet is already up-to-date!\n"
     ]
    },
    {
     "data": {
      "text/html": [
       "<div>\n",
       "<style scoped>\n",
       "    .dataframe tbody tr th:only-of-type {\n",
       "        vertical-align: middle;\n",
       "    }\n",
       "\n",
       "    .dataframe tbody tr th {\n",
       "        vertical-align: top;\n",
       "    }\n",
       "\n",
       "    .dataframe thead th {\n",
       "        text-align: right;\n",
       "    }\n",
       "</style>\n",
       "<table border=\"1\" class=\"dataframe\">\n",
       "  <thead>\n",
       "    <tr style=\"text-align: right;\">\n",
       "      <th></th>\n",
       "      <th>FullDescription</th>\n",
       "      <th>target</th>\n",
       "    </tr>\n",
       "  </thead>\n",
       "  <tbody>\n",
       "    <tr>\n",
       "      <th>0</th>\n",
       "      <td>joining thriving restaurant forever expanding ...</td>\n",
       "      <td>low</td>\n",
       "    </tr>\n",
       "    <tr>\n",
       "      <th>1</th>\n",
       "      <td>excellent opportunity concept mechanical engin...</td>\n",
       "      <td>high</td>\n",
       "    </tr>\n",
       "    <tr>\n",
       "      <th>2</th>\n",
       "      <td>immediate opportunity arisen experienced senio...</td>\n",
       "      <td>low</td>\n",
       "    </tr>\n",
       "    <tr>\n",
       "      <th>3</th>\n",
       "      <td>deputy manager job description new year new jo...</td>\n",
       "      <td>low</td>\n",
       "    </tr>\n",
       "    <tr>\n",
       "      <th>4</th>\n",
       "      <td>contract manager based london paris contract m...</td>\n",
       "      <td>low</td>\n",
       "    </tr>\n",
       "  </tbody>\n",
       "</table>\n",
       "</div>"
      ],
      "text/plain": [
       "                                     FullDescription target\n",
       "0  joining thriving restaurant forever expanding ...    low\n",
       "1  excellent opportunity concept mechanical engin...   high\n",
       "2  immediate opportunity arisen experienced senio...    low\n",
       "3  deputy manager job description new year new jo...    low\n",
       "4  contract manager based london paris contract m...    low"
      ]
     },
     "execution_count": 59,
     "metadata": {},
     "output_type": "execute_result"
    }
   ],
   "source": [
    "train = pd.read_csv('data Pre-Processed/train.csv')\n",
    "test = pd.read_csv('data Pre-Processed/test.csv')\n",
    "\n",
    "# Preprocessing function to clean text data\n",
    "def clean_text(text):\n",
    "    # Remove non-alphabetic characters and lowercase the text\n",
    "    text = re.sub(r'[^a-zA-Z]', ' ', text)\n",
    "    text = text.lower()\n",
    "    # Tokenize and remove stopwords\n",
    "    tokens = word_tokenize(text)\n",
    "    tokens = [word for word in tokens if word not in stopwords.words('english')]\n",
    "    # Join the tokens back into a string\n",
    "    text = ' '.join(tokens)\n",
    "    return text\n",
    "\n",
    "# lametize the words\n",
    "from nltk.stem import WordNetLemmatizer\n",
    "nltk.download('wordnet')\n",
    "lemmatizer = WordNetLemmatizer()\n",
    "def lemmatize_words(text):\n",
    "    tokens = word_tokenize(text)\n",
    "    tokens = [lemmatizer.lemmatize(word) for word in tokens]\n",
    "    text = ' '.join(tokens)\n",
    "    return text\n",
    "\n",
    "# Preprocess the text data\n",
    "train['FullDescription'] = train['FullDescription'].apply(clean_text).apply(lemmatize_words)\n",
    "test['FullDescription'] = test['FullDescription'].apply(clean_text).apply(lemmatize_words)\n",
    "\n",
    "\n",
    "train.head()\n"
   ]
  },
  {
   "cell_type": "code",
   "execution_count": 64,
   "metadata": {},
   "outputs": [
    {
     "data": {
      "text/plain": [
       "((2000, 13909), (500, 13909))"
      ]
     },
     "execution_count": 64,
     "metadata": {},
     "output_type": "execute_result"
    }
   ],
   "source": [
    "# Making word Embeddings Using TF-IDF\n",
    "# Create a TF-IDF vectorizer\n",
    "vectorizer = TfidfVectorizer()\n",
    "# Fit the vectorizer to the training data\n",
    "X_train = vectorizer.fit_transform(train['FullDescription'])\n",
    "\n",
    "# Transform the test data\n",
    "X_test = vectorizer.transform(test['FullDescription'])\n",
    "\n",
    "X_train.shape, X_test.shape"
   ]
  },
  {
   "cell_type": "code",
   "execution_count": 77,
   "metadata": {},
   "outputs": [
    {
     "name": "stdout",
     "output_type": "stream",
     "text": [
      "Train accuracy: 0.8875\n",
      "Test accuracy: 0.806\n"
     ]
    }
   ],
   "source": [
    "X_train=X_train.toarray()\n",
    "X_test=X_test.toarray()\n",
    "\n",
    "# Train a Naive Bayes classifier\n",
    "model = BernoulliNB()\n",
    "\n",
    "# Fit the model to the training data\n",
    "model.fit(X_train, train['target'])\n",
    "\n",
    "# Predict the target\n",
    "train['predicted'] = model.predict(X_train)\n",
    "test['predicted'] = model.predict(X_test)\n",
    "\n",
    "# Calculate the accuracy\n",
    "train_accuracy = accuracy_score(train['target'], train['predicted'])\n",
    "test_accuracy = accuracy_score(test['target'], test['predicted'])\n",
    "\n",
    "print('Train accuracy:', train_accuracy)\n",
    "print('Test accuracy:', test_accuracy)"
   ]
  },
  {
   "cell_type": "code",
   "execution_count": 79,
   "metadata": {},
   "outputs": [
    {
     "name": "stdout",
     "output_type": "stream",
     "text": [
      "Best hyperparameters: {'bernoullinb__alpha': 0.1, 'tfidfvectorizer__max_features': 30000, 'tfidfvectorizer__ngram_range': (1, 2), 'tfidfvectorizer__norm': 'l1', 'tfidfvectorizer__use_idf': True}\n",
      "Best cross-validation score: 0.7950000000000002\n",
      "Test score: 0.822\n",
      "Train accuracy: 0.96\n",
      "Test accuracy: 0.822\n"
     ]
    }
   ],
   "source": [
    "# hyperparameter tuning\n",
    "\n",
    "\n",
    "# Create a pipeline\n",
    "model = make_pipeline(TfidfVectorizer(), BernoulliNB())\n",
    "\n",
    "# Create a grid of hyperparameters\n",
    "param_grid = {\n",
    "    'tfidfvectorizer__ngram_range': [(1, 1), (1, 2), (1, 3)],\n",
    "    'tfidfvectorizer__max_features': [1000, 10000, 30000],\n",
    "    'tfidfvectorizer__use_idf': [True, False],\n",
    "    'tfidfvectorizer__norm': ['l1', 'l2'],\n",
    "    'bernoullinb__alpha': [0.1, 1, 2]\n",
    "}\n",
    "\n",
    "# Perform a grid search of the pipeline\n",
    "from sklearn.model_selection import GridSearchCV\n",
    "grid = GridSearchCV(model, param_grid, cv=5, n_jobs=-1)\n",
    "grid.fit(train['FullDescription'], train['target'])\n",
    "\n",
    "# Print the best hyperparameters\n",
    "print('Best hyperparameters:', grid.best_params_)\n",
    "print('Best cross-validation score:', grid.best_score_)\n",
    "print('Test score:', grid.score(test['FullDescription'], test['target']))\n",
    "\n",
    "# Predict the target\n",
    "train['predicted'] = grid.predict(train['FullDescription'])\n",
    "test['predicted'] = grid.predict(test['FullDescription'])\n",
    "\n",
    "# Calculate the accuracy\n",
    "train_accuracy = accuracy_score(train['target'], train['predicted'])\n",
    "test_accuracy = accuracy_score(test['target'], test['predicted'])\n",
    "\n",
    "\n",
    "print('Train accuracy:', train_accuracy)\n",
    "print('Test accuracy:', test_accuracy)\n"
   ]
  },
  {
   "cell_type": "code",
   "execution_count": 81,
   "metadata": {},
   "outputs": [
    {
     "name": "stdout",
     "output_type": "stream",
     "text": [
      "Confusion Matrix:\n",
      "[[ 69  50]\n",
      " [ 39 342]]\n"
     ]
    },
    {
     "data": {
      "image/png": "[encoded data removed]",
      "text/plain": [
       "<Figure size 480x480 with 2 Axes>"
      ]
     },
     "metadata": {},
     "output_type": "display_data"
    }
   ],
   "source": [
    "# Create confusion matrix\n",
    "cm = confusion_matrix(test[\"target\"], test[\"predicted\"])\n",
    "\n",
    "# Print confusion matrix\n",
    "print(\"Confusion Matrix:\")\n",
    "print(cm)\n",
    "\n",
    "# Plot confusion matrix \n",
    "plt.matshow(cm, cmap=plt.cm.Blues)\n",
    "plt.colorbar()\n",
    "plt.xlabel('Predicted')\n",
    "plt.ylabel('Actual')\n",
    "plt.show()"
   ]
  },
  {
   "cell_type": "code",
   "execution_count": 82,
   "metadata": {},
   "outputs": [
    {
     "name": "stdout",
     "output_type": "stream",
     "text": [
      "Train accuracy: 0.96\n",
      "Test accuracy: 0.822\n"
     ]
    }
   ],
   "source": [
    "# Best hyperparameters: {'bernoullinb__alpha': 0.1, 'tfidfvectorizer__max_features': 30000, 'tfidfvectorizer__ngram_range': (1, 2), 'tfidfvectorizer__norm': 'l1', 'tfidfvectorizer__use_idf': True}\n",
    "\n",
    "vectorizer = TfidfVectorizer(max_features=30000, ngram_range=(1, 2), norm='l1', use_idf=True)\n",
    "X_train = vectorizer.fit_transform(train['FullDescription'])\n",
    "X_test = vectorizer.transform(test['FullDescription'])\n",
    "\n",
    "model = BernoulliNB(alpha=0.1)\n",
    "model.fit(X_train.toarray(), train['target'])\n",
    "\n",
    "train['predicted'] = model.predict(X_train.toarray())\n",
    "test['predicted'] = model.predict(X_test.toarray())\n",
    "\n",
    "train_accuracy = accuracy_score(train['target'], train['predicted'])\n",
    "test_accuracy = accuracy_score(test['target'], test['predicted'])\n",
    "\n",
    "print('Train accuracy:', train_accuracy)\n",
    "print('Test accuracy:', test_accuracy)\n",
    "\n",
    "\n"
   ]
  },
  {
   "cell_type": "code",
   "execution_count": 87,
   "metadata": {},
   "outputs": [
    {
     "name": "stdout",
     "output_type": "stream",
     "text": [
      "Top 10 features for high salary:\n"
     ]
    },
    {
     "data": {
      "text/html": [
       "<div>\n",
       "<style scoped>\n",
       "    .dataframe tbody tr th:only-of-type {\n",
       "        vertical-align: middle;\n",
       "    }\n",
       "\n",
       "    .dataframe tbody tr th {\n",
       "        vertical-align: top;\n",
       "    }\n",
       "\n",
       "    .dataframe thead th {\n",
       "        text-align: right;\n",
       "    }\n",
       "</style>\n",
       "<table border=\"1\" class=\"dataframe\">\n",
       "  <thead>\n",
       "    <tr style=\"text-align: right;\">\n",
       "      <th></th>\n",
       "      <th>high</th>\n",
       "      <th>low</th>\n",
       "      <th>diff</th>\n",
       "    </tr>\n",
       "  </thead>\n",
       "  <tbody>\n",
       "    <tr>\n",
       "      <th>meal</th>\n",
       "      <td>-3.663090</td>\n",
       "      <td>-8.54714</td>\n",
       "      <td>4.884050</td>\n",
       "    </tr>\n",
       "    <tr>\n",
       "      <th>curriculum</th>\n",
       "      <td>-3.866097</td>\n",
       "      <td>-8.54714</td>\n",
       "      <td>4.681043</td>\n",
       "    </tr>\n",
       "    <tr>\n",
       "      <th>absence</th>\n",
       "      <td>-3.898780</td>\n",
       "      <td>-8.54714</td>\n",
       "      <td>4.648361</td>\n",
       "    </tr>\n",
       "    <tr>\n",
       "      <th>pupil</th>\n",
       "      <td>-4.003771</td>\n",
       "      <td>-8.54714</td>\n",
       "      <td>4.543369</td>\n",
       "    </tr>\n",
       "    <tr>\n",
       "      <th>gcse</th>\n",
       "      <td>-4.003771</td>\n",
       "      <td>-8.54714</td>\n",
       "      <td>4.543369</td>\n",
       "    </tr>\n",
       "    <tr>\n",
       "      <th>professional manner</th>\n",
       "      <td>-4.041369</td>\n",
       "      <td>-8.54714</td>\n",
       "      <td>4.505771</td>\n",
       "    </tr>\n",
       "    <tr>\n",
       "      <th>hour work</th>\n",
       "      <td>-4.121093</td>\n",
       "      <td>-8.54714</td>\n",
       "      <td>4.426047</td>\n",
       "    </tr>\n",
       "    <tr>\n",
       "      <th>time hour</th>\n",
       "      <td>-4.121093</td>\n",
       "      <td>-8.54714</td>\n",
       "      <td>4.426047</td>\n",
       "    </tr>\n",
       "    <tr>\n",
       "      <th>classroom</th>\n",
       "      <td>-4.121093</td>\n",
       "      <td>-8.54714</td>\n",
       "      <td>4.426047</td>\n",
       "    </tr>\n",
       "    <tr>\n",
       "      <th>customer focused</th>\n",
       "      <td>-4.163472</td>\n",
       "      <td>-8.54714</td>\n",
       "      <td>4.383668</td>\n",
       "    </tr>\n",
       "  </tbody>\n",
       "</table>\n",
       "</div>"
      ],
      "text/plain": [
       "                         high      low      diff\n",
       "meal                -3.663090 -8.54714  4.884050\n",
       "curriculum          -3.866097 -8.54714  4.681043\n",
       "absence             -3.898780 -8.54714  4.648361\n",
       "pupil               -4.003771 -8.54714  4.543369\n",
       "gcse                -4.003771 -8.54714  4.543369\n",
       "professional manner -4.041369 -8.54714  4.505771\n",
       "hour work           -4.121093 -8.54714  4.426047\n",
       "time hour           -4.121093 -8.54714  4.426047\n",
       "classroom           -4.121093 -8.54714  4.426047\n",
       "customer focused    -4.163472 -8.54714  4.383668"
      ]
     },
     "execution_count": 87,
     "metadata": {},
     "output_type": "execute_result"
    }
   ],
   "source": [
    "# top 10 features for high and low salary\n",
    "# Extract the feature names from the TF-IDF vectorizer\n",
    "feature_names = np.array(vectorizer.get_feature_names_out())\n",
    "\n",
    "# Extract the feature log probabilities from the Naive Bayes model\n",
    "feature_log_prob = model.feature_log_prob_\n",
    "\n",
    "# Create a DataFrame of the features and their log probabilities\n",
    "feature_prob = pd.DataFrame({'high': feature_log_prob[1], 'low': feature_log_prob[0]}, index=feature_names)\n",
    "\n",
    "\n",
    "# Sort the features by the difference in log probabilities\n",
    "feature_prob['diff'] = feature_prob['high'] - feature_prob['low']\n",
    "feature_prob = feature_prob.sort_values('diff', ascending=False)\n",
    "\n",
    "# Print the top 10 features for high and low salary\n",
    "print('Top 10 features for high salary:')\n",
    "feature_prob.head(10)\n",
    "\n",
    "\n",
    "\n",
    "\n"
   ]
  },
  {
   "cell_type": "code",
   "execution_count": 88,
   "metadata": {},
   "outputs": [
    {
     "name": "stdout",
     "output_type": "stream",
     "text": [
      "Top 10 features for low salary:\n"
     ]
    },
    {
     "data": {
      "text/html": [
       "<div>\n",
       "<style scoped>\n",
       "    .dataframe tbody tr th:only-of-type {\n",
       "        vertical-align: middle;\n",
       "    }\n",
       "\n",
       "    .dataframe tbody tr th {\n",
       "        vertical-align: top;\n",
       "    }\n",
       "\n",
       "    .dataframe thead th {\n",
       "        text-align: right;\n",
       "    }\n",
       "</style>\n",
       "<table border=\"1\" class=\"dataframe\">\n",
       "  <thead>\n",
       "    <tr style=\"text-align: right;\">\n",
       "      <th></th>\n",
       "      <th>high</th>\n",
       "      <th>low</th>\n",
       "      <th>diff</th>\n",
       "    </tr>\n",
       "  </thead>\n",
       "  <tbody>\n",
       "    <tr>\n",
       "      <th>senior quantity</th>\n",
       "      <td>-9.60589</td>\n",
       "      <td>-4.436266</td>\n",
       "      <td>-5.169623</td>\n",
       "    </tr>\n",
       "    <tr>\n",
       "      <th>senior project</th>\n",
       "      <td>-9.60589</td>\n",
       "      <td>-4.436266</td>\n",
       "      <td>-5.169623</td>\n",
       "    </tr>\n",
       "    <tr>\n",
       "      <th>ssa</th>\n",
       "      <td>-9.60589</td>\n",
       "      <td>-4.436266</td>\n",
       "      <td>-5.169623</td>\n",
       "    </tr>\n",
       "    <tr>\n",
       "      <th>annual revenue</th>\n",
       "      <td>-9.60589</td>\n",
       "      <td>-4.436266</td>\n",
       "      <td>-5.169623</td>\n",
       "    </tr>\n",
       "    <tr>\n",
       "      <th>internal control</th>\n",
       "      <td>-9.60589</td>\n",
       "      <td>-4.436266</td>\n",
       "      <td>-5.169623</td>\n",
       "    </tr>\n",
       "    <tr>\n",
       "      <th>chief</th>\n",
       "      <td>-9.60589</td>\n",
       "      <td>-4.284460</td>\n",
       "      <td>-5.321429</td>\n",
       "    </tr>\n",
       "    <tr>\n",
       "      <th>vp</th>\n",
       "      <td>-9.60589</td>\n",
       "      <td>-4.284460</td>\n",
       "      <td>-5.321429</td>\n",
       "    </tr>\n",
       "    <tr>\n",
       "      <th>saas</th>\n",
       "      <td>-9.60589</td>\n",
       "      <td>-4.284460</td>\n",
       "      <td>-5.321429</td>\n",
       "    </tr>\n",
       "    <tr>\n",
       "      <th>industry best</th>\n",
       "      <td>-9.60589</td>\n",
       "      <td>-4.152691</td>\n",
       "      <td>-5.453199</td>\n",
       "    </tr>\n",
       "    <tr>\n",
       "      <th>top tier</th>\n",
       "      <td>-9.60589</td>\n",
       "      <td>-4.036281</td>\n",
       "      <td>-5.569609</td>\n",
       "    </tr>\n",
       "  </tbody>\n",
       "</table>\n",
       "</div>"
      ],
      "text/plain": [
       "                     high       low      diff\n",
       "senior quantity  -9.60589 -4.436266 -5.169623\n",
       "senior project   -9.60589 -4.436266 -5.169623\n",
       "ssa              -9.60589 -4.436266 -5.169623\n",
       "annual revenue   -9.60589 -4.436266 -5.169623\n",
       "internal control -9.60589 -4.436266 -5.169623\n",
       "chief            -9.60589 -4.284460 -5.321429\n",
       "vp               -9.60589 -4.284460 -5.321429\n",
       "saas             -9.60589 -4.284460 -5.321429\n",
       "industry best    -9.60589 -4.152691 -5.453199\n",
       "top tier         -9.60589 -4.036281 -5.569609"
      ]
     },
     "execution_count": 88,
     "metadata": {},
     "output_type": "execute_result"
    }
   ],
   "source": [
    "# Print the top 10 features for low salary\n",
    "print('Top 10 features for low salary:')\n",
    "feature_prob.tail(10)\n",
    "\n"
   ]
  },
  {
   "cell_type": "code",
   "execution_count": 89,
   "metadata": {},
   "outputs": [
    {
     "data": {
      "image/png": "[encoded data removed]",
      "text/plain": [
       "<Figure size 1000x500 with 1 Axes>"
      ]
     },
     "metadata": {},
     "output_type": "display_data"
    },
    {
     "data": {
      "image/png": "[encoded data removed]",
      "text/plain": [
       "<Figure size 1000x500 with 1 Axes>"
      ]
     },
     "metadata": {},
     "output_type": "display_data"
    }
   ],
   "source": [
    "# plot the top 10 features for high and low salary\n",
    "# Plot the top 10 features for high salary\n",
    "plt.figure(figsize=(10, 5))\n",
    "plt.barh(feature_prob.index[:10], feature_prob['diff'].head(10))\n",
    "plt.xlabel('Difference in log probabilities')\n",
    "plt.title('Top 10 features for high salary')\n",
    "plt.show()\n",
    "\n",
    "# Plot the top 10 features for low salary\n",
    "plt.figure(figsize=(10, 5))\n",
    "plt.barh(feature_prob.index[-10:], feature_prob['diff'].tail(10))\n",
    "plt.xlabel('Difference in log probabilities')\n",
    "plt.title('Top 10 features for low salary')\n",
    "plt.show()\n",
    "\n"
   ]
  },
  {
   "cell_type": "code",
   "execution_count": null,
   "metadata": {},
   "outputs": [],
   "source": []
  }
 ],
 "metadata": {
  "kernelspec": {
   "display_name": "Python 3",
   "language": "python",
   "name": "python3"
  },
  "language_info": {
   "codemirror_mode": {
    "name": "ipython",
    "version": 3
   },
   "file_extension": ".py",
   "mimetype": "text/x-python",
   "name": "python",
   "nbconvert_exporter": "python",
   "pygments_lexer": "ipython3",
   "version": "3.9.6"
  }
 },
 "nbformat": 4,
 "nbformat_minor": 2
}
