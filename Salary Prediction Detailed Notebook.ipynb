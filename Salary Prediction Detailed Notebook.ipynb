{
 "cells": [
  {
   "cell_type": "code",
   "execution_count": 22,
   "metadata": {},
   "outputs": [
    {
     "name": "stderr",
     "output_type": "stream",
     "text": [
      "[nltk_data] Downloading package wordnet to /Users/krishan/nltk_data...\n",
      "[nltk_data]   Package wordnet is already up-to-date!\n",
      "[nltk_data] Downloading package punkt to /Users/krishan/nltk_data...\n",
      "[nltk_data]   Package punkt is already up-to-date!\n",
      "[nltk_data] Downloading package stopwords to\n",
      "[nltk_data]     /Users/krishan/nltk_data...\n",
      "[nltk_data]   Package stopwords is already up-to-date!\n"
     ]
    },
    {
     "data": {
      "text/plain": [
       "True"
      ]
     },
     "execution_count": 22,
     "metadata": {},
     "output_type": "execute_result"
    }
   ],
   "source": [
    "import pandas as pd\n",
    "import numpy as np\n",
    "import matplotlib.pyplot as plt\n",
    "import seaborn as sns\n",
    "\n",
    "from sklearn.model_selection import train_test_split\n",
    "from sklearn.pipeline import make_pipeline\n",
    "from sklearn.metrics import classification_report\n",
    "from sklearn.metrics import confusion_matrix, accuracy_score\n",
    "from sklearn.model_selection import GridSearchCV\n",
    "\n",
    "\n",
    "import nltk\n",
    "from nltk.corpus import stopwords\n",
    "from nltk.tokenize import word_tokenize\n",
    "import re\n",
    "from nltk.stem import WordNetLemmatizer\n",
    "nltk.download('wordnet')\n",
    "\n",
    "from sklearn.feature_extraction.text import TfidfVectorizer\n",
    "from sklearn.feature_extraction.text import CountVectorizer\n",
    "\n",
    "from sklearn.naive_bayes import MultinomialNB\n",
    "from sklearn.naive_bayes import BernoulliNB\n",
    "# Download NLTK stopwords\n",
    "nltk.download('punkt')\n",
    "nltk.download('stopwords')"
   ]
  },
  {
   "cell_type": "markdown",
   "metadata": {},
   "source": [
    "### Randomly selected 2500 data points from the training dataset (“Train_rev1.csv”) for ease of analysis and split the 2500 data points into training (80%) and test (20%) sets."
   ]
  },
  {
   "cell_type": "code",
   "execution_count": 2,
   "metadata": {},
   "outputs": [],
   "source": [
    "# def split_data():\n",
    "#     # Load the data\n",
    "#     data = pd.read_csv('data/Train_rev1.csv')\n",
    "#     # Randomly select 2500 data points\n",
    "#     data = data.sample(n=2500)\n",
    "#     # Split the data\n",
    "#     train, test = train_test_split(data, test_size=0.2)\n",
    "#     return train, test\n",
    "\n",
    "# train, test = split_data()\n",
    "\n",
    "# print(train.shape)\n",
    "# print(test.shape)"
   ]
  },
  {
   "cell_type": "code",
   "execution_count": 3,
   "metadata": {},
   "outputs": [],
   "source": [
    "# #reset index\n",
    "# train = train.reset_index(drop=True)\n",
    "# test = test.reset_index(drop=True)\n",
    "\n",
    "# train.head()"
   ]
  },
  {
   "cell_type": "code",
   "execution_count": 4,
   "metadata": {},
   "outputs": [],
   "source": [
    "# #target column = high if salary >= 75% percentile otherwise low\n",
    "# salary_75 = train['SalaryNormalized'].quantile(0.75)\n",
    "# print('75th percentile salary',salary_75)\n",
    "\n",
    "# train['target'] = np.where(train['SalaryNormalized'] >= salary_75, 'high', 'low')\n",
    "# test['target'] = np.where(test['SalaryNormalized'] >= salary_75, 'high', 'low')"
   ]
  },
  {
   "cell_type": "code",
   "execution_count": 5,
   "metadata": {},
   "outputs": [],
   "source": [
    "# train = train[['FullDescription', 'target']]\n",
    "# test = test[['FullDescription', 'target']]\n",
    "\n",
    "# train.to_csv('train.csv', index=False)\n",
    "# test.to_csv('test.csv', index=False)\n",
    "\n",
    "# train.shape, test.shape"
   ]
  },
  {
   "cell_type": "markdown",
   "metadata": {},
   "source": [
    "# Reading the Train and Test Data of 2000+500 rows"
   ]
  },
  {
   "cell_type": "code",
   "execution_count": 6,
   "metadata": {},
   "outputs": [
    {
     "data": {
      "text/plain": [
       "((2000, 2), (500, 2))"
      ]
     },
     "execution_count": 6,
     "metadata": {},
     "output_type": "execute_result"
    }
   ],
   "source": [
    "train = pd.read_csv('train.csv')\n",
    "test = pd.read_csv('test.csv')\n",
    "\n",
    "train.shape, test.shape"
   ]
  },
  {
   "cell_type": "code",
   "execution_count": 7,
   "metadata": {},
   "outputs": [
    {
     "data": {
      "text/html": [
       "<div>\n",
       "<style scoped>\n",
       "    .dataframe tbody tr th:only-of-type {\n",
       "        vertical-align: middle;\n",
       "    }\n",
       "\n",
       "    .dataframe tbody tr th {\n",
       "        vertical-align: top;\n",
       "    }\n",
       "\n",
       "    .dataframe thead th {\n",
       "        text-align: right;\n",
       "    }\n",
       "</style>\n",
       "<table border=\"1\" class=\"dataframe\">\n",
       "  <thead>\n",
       "    <tr style=\"text-align: right;\">\n",
       "      <th></th>\n",
       "      <th>FullDescription</th>\n",
       "      <th>target</th>\n",
       "    </tr>\n",
       "  </thead>\n",
       "  <tbody>\n",
       "    <tr>\n",
       "      <th>0</th>\n",
       "      <td>If you are looking for a successful career in ...</td>\n",
       "      <td>low</td>\n",
       "    </tr>\n",
       "    <tr>\n",
       "      <th>1</th>\n",
       "      <td>Our top Sales Executives earn in excess of ***...</td>\n",
       "      <td>high</td>\n",
       "    </tr>\n",
       "    <tr>\n",
       "      <th>2</th>\n",
       "      <td>National Account Manager Yorkshire ****k  ****...</td>\n",
       "      <td>high</td>\n",
       "    </tr>\n",
       "    <tr>\n",
       "      <th>3</th>\n",
       "      <td>An immediate opportunity has arisen for an exp...</td>\n",
       "      <td>low</td>\n",
       "    </tr>\n",
       "    <tr>\n",
       "      <th>4</th>\n",
       "      <td>This is a newly created role in a growing soft...</td>\n",
       "      <td>high</td>\n",
       "    </tr>\n",
       "  </tbody>\n",
       "</table>\n",
       "</div>"
      ],
      "text/plain": [
       "                                     FullDescription target\n",
       "0  If you are looking for a successful career in ...    low\n",
       "1  Our top Sales Executives earn in excess of ***...   high\n",
       "2  National Account Manager Yorkshire ****k  ****...   high\n",
       "3  An immediate opportunity has arisen for an exp...    low\n",
       "4  This is a newly created role in a growing soft...   high"
      ]
     },
     "execution_count": 7,
     "metadata": {},
     "output_type": "execute_result"
    }
   ],
   "source": [
    "train.head()"
   ]
  },
  {
   "cell_type": "code",
   "execution_count": 8,
   "metadata": {},
   "outputs": [
    {
     "data": {
      "text/plain": [
       "target\n",
       "low     0.7365\n",
       "high    0.2635\n",
       "Name: proportion, dtype: float64"
      ]
     },
     "execution_count": 8,
     "metadata": {},
     "output_type": "execute_result"
    }
   ],
   "source": [
    "#Target Distribution in Train Test\n",
    "train['target'].value_counts(normalize=True)"
   ]
  },
  {
   "cell_type": "markdown",
   "metadata": {},
   "source": [
    "## Data Preprocessing of text column\n",
    "\n",
    "- Removing non-alphabets\n",
    "- Converting to lower case\n",
    "- Removing stop words\n",
    "- Lemmatization\n"
   ]
  },
  {
   "cell_type": "code",
   "execution_count": 9,
   "metadata": {},
   "outputs": [
    {
     "data": {
      "text/html": [
       "<div>\n",
       "<style scoped>\n",
       "    .dataframe tbody tr th:only-of-type {\n",
       "        vertical-align: middle;\n",
       "    }\n",
       "\n",
       "    .dataframe tbody tr th {\n",
       "        vertical-align: top;\n",
       "    }\n",
       "\n",
       "    .dataframe thead th {\n",
       "        text-align: right;\n",
       "    }\n",
       "</style>\n",
       "<table border=\"1\" class=\"dataframe\">\n",
       "  <thead>\n",
       "    <tr style=\"text-align: right;\">\n",
       "      <th></th>\n",
       "      <th>FullDescription</th>\n",
       "      <th>target</th>\n",
       "    </tr>\n",
       "  </thead>\n",
       "  <tbody>\n",
       "    <tr>\n",
       "      <th>0</th>\n",
       "      <td>looking successful career insurance hic could ...</td>\n",
       "      <td>low</td>\n",
       "    </tr>\n",
       "    <tr>\n",
       "      <th>1</th>\n",
       "      <td>top sale executive earn excess per annum curre...</td>\n",
       "      <td>high</td>\n",
       "    </tr>\n",
       "    <tr>\n",
       "      <th>2</th>\n",
       "      <td>national account manager yorkshire k k car ben...</td>\n",
       "      <td>high</td>\n",
       "    </tr>\n",
       "    <tr>\n",
       "      <th>3</th>\n",
       "      <td>immediate opportunity arisen experienced pr ex...</td>\n",
       "      <td>low</td>\n",
       "    </tr>\n",
       "    <tr>\n",
       "      <th>4</th>\n",
       "      <td>newly created role growing software developmen...</td>\n",
       "      <td>high</td>\n",
       "    </tr>\n",
       "  </tbody>\n",
       "</table>\n",
       "</div>"
      ],
      "text/plain": [
       "                                     FullDescription target\n",
       "0  looking successful career insurance hic could ...    low\n",
       "1  top sale executive earn excess per annum curre...   high\n",
       "2  national account manager yorkshire k k car ben...   high\n",
       "3  immediate opportunity arisen experienced pr ex...    low\n",
       "4  newly created role growing software developmen...   high"
      ]
     },
     "execution_count": 9,
     "metadata": {},
     "output_type": "execute_result"
    }
   ],
   "source": [
    "# Preprocessing function to clean text data\n",
    "def clean_text(text):\n",
    "    # Remove non-alphabetic characters and lowercase the text\n",
    "    text = re.sub(r'[^a-zA-Z]', ' ', text)\n",
    "    text = text.lower()\n",
    "    # Tokenize and remove stopwords\n",
    "    tokens = word_tokenize(text)\n",
    "    tokens = [word for word in tokens if word not in stopwords.words('english')]\n",
    "    # Join the tokens back into a string\n",
    "    text = ' '.join(tokens)\n",
    "    return text\n",
    "\n",
    "# lametize the words\n",
    "lemmatizer = WordNetLemmatizer()\n",
    "def lemmatize_words(text):\n",
    "    tokens = word_tokenize(text)\n",
    "    tokens = [lemmatizer.lemmatize(word) for word in tokens]\n",
    "    text = ' '.join(tokens)\n",
    "    return text\n",
    "\n",
    "# Preprocess the text data\n",
    "train['FullDescription'] = train['FullDescription'].apply(clean_text).apply(lemmatize_words)\n",
    "test['FullDescription'] = test['FullDescription'].apply(clean_text).apply(lemmatize_words)\n",
    "\n",
    "\n",
    "train.head()\n"
   ]
  },
  {
   "cell_type": "markdown",
   "metadata": {},
   "source": [
    "## Binary Vectorizer\n",
    "\n",
    "Using binary vectorizer to convert the text data into binary format for the Naive Bayes model."
   ]
  },
  {
   "cell_type": "code",
   "execution_count": 10,
   "metadata": {},
   "outputs": [
    {
     "name": "stdout",
     "output_type": "stream",
     "text": [
      "X_train_binary.shape, X_test_binary.shape:\n",
      "\n",
      " (2000, 14077) (500, 14077)\n"
     ]
    },
    {
     "data": {
      "text/html": [
       "<div>\n",
       "<style scoped>\n",
       "    .dataframe tbody tr th:only-of-type {\n",
       "        vertical-align: middle;\n",
       "    }\n",
       "\n",
       "    .dataframe tbody tr th {\n",
       "        vertical-align: top;\n",
       "    }\n",
       "\n",
       "    .dataframe thead th {\n",
       "        text-align: right;\n",
       "    }\n",
       "</style>\n",
       "<table border=\"1\" class=\"dataframe\">\n",
       "  <thead>\n",
       "    <tr style=\"text-align: right;\">\n",
       "      <th></th>\n",
       "      <th>aa</th>\n",
       "      <th>aaappointments</th>\n",
       "      <th>aacsb</th>\n",
       "      <th>aand</th>\n",
       "      <th>aar</th>\n",
       "      <th>aaron</th>\n",
       "      <th>aarosettehighlands</th>\n",
       "      <th>aat</th>\n",
       "      <th>ab</th>\n",
       "      <th>abbas</th>\n",
       "      <th>...</th>\n",
       "      <th>zigbee</th>\n",
       "      <th>zinc</th>\n",
       "      <th>zipped</th>\n",
       "      <th>zk</th>\n",
       "      <th>zm</th>\n",
       "      <th>zn</th>\n",
       "      <th>zoe</th>\n",
       "      <th>zone</th>\n",
       "      <th>zu</th>\n",
       "      <th>zxtm</th>\n",
       "    </tr>\n",
       "  </thead>\n",
       "  <tbody>\n",
       "    <tr>\n",
       "      <th>0</th>\n",
       "      <td>0</td>\n",
       "      <td>0</td>\n",
       "      <td>0</td>\n",
       "      <td>0</td>\n",
       "      <td>0</td>\n",
       "      <td>0</td>\n",
       "      <td>0</td>\n",
       "      <td>0</td>\n",
       "      <td>0</td>\n",
       "      <td>0</td>\n",
       "      <td>...</td>\n",
       "      <td>0</td>\n",
       "      <td>0</td>\n",
       "      <td>0</td>\n",
       "      <td>0</td>\n",
       "      <td>0</td>\n",
       "      <td>0</td>\n",
       "      <td>0</td>\n",
       "      <td>0</td>\n",
       "      <td>0</td>\n",
       "      <td>0</td>\n",
       "    </tr>\n",
       "    <tr>\n",
       "      <th>1</th>\n",
       "      <td>0</td>\n",
       "      <td>0</td>\n",
       "      <td>0</td>\n",
       "      <td>0</td>\n",
       "      <td>0</td>\n",
       "      <td>0</td>\n",
       "      <td>0</td>\n",
       "      <td>0</td>\n",
       "      <td>0</td>\n",
       "      <td>0</td>\n",
       "      <td>...</td>\n",
       "      <td>0</td>\n",
       "      <td>0</td>\n",
       "      <td>0</td>\n",
       "      <td>0</td>\n",
       "      <td>0</td>\n",
       "      <td>0</td>\n",
       "      <td>0</td>\n",
       "      <td>0</td>\n",
       "      <td>0</td>\n",
       "      <td>0</td>\n",
       "    </tr>\n",
       "    <tr>\n",
       "      <th>2</th>\n",
       "      <td>0</td>\n",
       "      <td>0</td>\n",
       "      <td>0</td>\n",
       "      <td>0</td>\n",
       "      <td>0</td>\n",
       "      <td>0</td>\n",
       "      <td>0</td>\n",
       "      <td>0</td>\n",
       "      <td>0</td>\n",
       "      <td>0</td>\n",
       "      <td>...</td>\n",
       "      <td>0</td>\n",
       "      <td>0</td>\n",
       "      <td>0</td>\n",
       "      <td>0</td>\n",
       "      <td>0</td>\n",
       "      <td>0</td>\n",
       "      <td>0</td>\n",
       "      <td>0</td>\n",
       "      <td>0</td>\n",
       "      <td>0</td>\n",
       "    </tr>\n",
       "    <tr>\n",
       "      <th>3</th>\n",
       "      <td>0</td>\n",
       "      <td>0</td>\n",
       "      <td>0</td>\n",
       "      <td>0</td>\n",
       "      <td>0</td>\n",
       "      <td>0</td>\n",
       "      <td>0</td>\n",
       "      <td>0</td>\n",
       "      <td>0</td>\n",
       "      <td>0</td>\n",
       "      <td>...</td>\n",
       "      <td>0</td>\n",
       "      <td>0</td>\n",
       "      <td>0</td>\n",
       "      <td>0</td>\n",
       "      <td>0</td>\n",
       "      <td>0</td>\n",
       "      <td>0</td>\n",
       "      <td>0</td>\n",
       "      <td>0</td>\n",
       "      <td>0</td>\n",
       "    </tr>\n",
       "    <tr>\n",
       "      <th>4</th>\n",
       "      <td>0</td>\n",
       "      <td>0</td>\n",
       "      <td>0</td>\n",
       "      <td>0</td>\n",
       "      <td>0</td>\n",
       "      <td>0</td>\n",
       "      <td>0</td>\n",
       "      <td>0</td>\n",
       "      <td>0</td>\n",
       "      <td>0</td>\n",
       "      <td>...</td>\n",
       "      <td>0</td>\n",
       "      <td>0</td>\n",
       "      <td>0</td>\n",
       "      <td>0</td>\n",
       "      <td>0</td>\n",
       "      <td>0</td>\n",
       "      <td>0</td>\n",
       "      <td>0</td>\n",
       "      <td>0</td>\n",
       "      <td>0</td>\n",
       "    </tr>\n",
       "  </tbody>\n",
       "</table>\n",
       "<p>5 rows × 14077 columns</p>\n",
       "</div>"
      ],
      "text/plain": [
       "   aa  aaappointments  aacsb  aand  aar  aaron  aarosettehighlands  aat  ab  \\\n",
       "0   0               0      0     0    0      0                   0    0   0   \n",
       "1   0               0      0     0    0      0                   0    0   0   \n",
       "2   0               0      0     0    0      0                   0    0   0   \n",
       "3   0               0      0     0    0      0                   0    0   0   \n",
       "4   0               0      0     0    0      0                   0    0   0   \n",
       "\n",
       "   abbas  ...  zigbee  zinc  zipped  zk  zm  zn  zoe  zone  zu  zxtm  \n",
       "0      0  ...       0     0       0   0   0   0    0     0   0     0  \n",
       "1      0  ...       0     0       0   0   0   0    0     0   0     0  \n",
       "2      0  ...       0     0       0   0   0   0    0     0   0     0  \n",
       "3      0  ...       0     0       0   0   0   0    0     0   0     0  \n",
       "4      0  ...       0     0       0   0   0   0    0     0   0     0  \n",
       "\n",
       "[5 rows x 14077 columns]"
      ]
     },
     "execution_count": 10,
     "metadata": {},
     "output_type": "execute_result"
    }
   ],
   "source": [
    "# Create a binary vectorizer\n",
    "binary_vectorizer = CountVectorizer(binary=True)\n",
    "# Fit the vectorizer to the training data\n",
    "X_train_binary = binary_vectorizer.fit_transform(train['FullDescription'])\n",
    "# Transform the test data\n",
    "X_test_binary = binary_vectorizer.transform(test['FullDescription'])\n",
    "\n",
    "print('X_train_binary.shape, X_test_binary.shape:\\n\\n',X_train_binary.shape, X_test_binary.shape)\n",
    "\n",
    "# Convert arrays to dense format.\n",
    "if hasattr(X_train_binary, 'toarray'):\n",
    "    X_train_binary_dense = X_train_binary.toarray()\n",
    "else:\n",
    "    X_train_binary_dense = X_train_binary\n",
    "\n",
    "if hasattr(X_test_binary, 'toarray'):\n",
    "    X_test_binary_dense = X_test_binary.toarray()\n",
    "else:\n",
    "    X_test_binary_dense = X_test_binary\n",
    "\n",
    "# Now, create pandas DataFrames with column names from the vectorizer.\n",
    "X_train_binary_df = pd.DataFrame(X_train_binary_dense, columns=binary_vectorizer.get_feature_names_out())\n",
    "X_test_binary_df = pd.DataFrame(X_test_binary_dense, columns=binary_vectorizer.get_feature_names_out())\n",
    "\n",
    "# Display the first few rows of X_train_binary_df to verify.\n",
    "X_train_binary_df.head()"
   ]
  },
  {
   "cell_type": "markdown",
   "metadata": {},
   "source": [
    "## Using Bernoulli Naïve Bayes to train the model\n",
    "Using this since the predictor variables are binary"
   ]
  },
  {
   "cell_type": "code",
   "execution_count": 15,
   "metadata": {},
   "outputs": [],
   "source": [
    "# Train a Naive Bayes classifier\n",
    "model = BernoulliNB()\n",
    "\n",
    "# Fit the model to the training data\n",
    "model.fit(X_train_binary, train['target'])\n",
    "\n",
    "# Predict the target\n",
    "train['predicted'] = model.predict(X_train_binary)\n",
    "test['predicted'] = model.predict(X_test_binary)"
   ]
  },
  {
   "cell_type": "markdown",
   "metadata": {},
   "source": [
    "# Accuracy of the model"
   ]
  },
  {
   "cell_type": "code",
   "execution_count": 16,
   "metadata": {},
   "outputs": [
    {
     "name": "stdout",
     "output_type": "stream",
     "text": [
      "Test accuracy: 79.80%\n"
     ]
    }
   ],
   "source": [
    "# Calculate the accuracy\n",
    "test_accuracy = accuracy_score(test['target'], test['predicted'])\n",
    "\n",
    "formatted_accuracy = \"{:.2f}%\".format(test_accuracy * 100)\n",
    "print('Test accuracy:', formatted_accuracy)\n"
   ]
  },
  {
   "cell_type": "markdown",
   "metadata": {},
   "source": [
    "# Confusion Matrix"
   ]
  },
  {
   "cell_type": "code",
   "execution_count": 13,
   "metadata": {},
   "outputs": [
    {
     "name": "stdout",
     "output_type": "stream",
     "text": [
      "Confusion Matrix:\n",
      "\n",
      "[[ 48  79]\n",
      " [ 22 351]]\n"
     ]
    },
    {
     "data": {
      "image/png": "[encoded data removed]",
      "text/plain": [
       "<Figure size 640x480 with 2 Axes>"
      ]
     },
     "metadata": {},
     "output_type": "display_data"
    },
    {
     "name": "stdout",
     "output_type": "stream",
     "text": [
      "              precision    recall  f1-score   support\n",
      "\n",
      "        high       0.69      0.38      0.49       127\n",
      "         low       0.82      0.94      0.87       373\n",
      "\n",
      "    accuracy                           0.80       500\n",
      "   macro avg       0.75      0.66      0.68       500\n",
      "weighted avg       0.78      0.80      0.78       500\n",
      "\n"
     ]
    }
   ],
   "source": [
    "# Create confusion matrix\n",
    "mat = confusion_matrix(test[\"target\"], test[\"predicted\"])\n",
    "\n",
    "# Print confusion matrix\n",
    "print(\"Confusion Matrix:\\n\")\n",
    "print(mat)\n",
    "\n",
    "sns.heatmap(mat, annot=True, fmt='g')\n",
    "plt.xlabel('true label')\n",
    "plt.ylabel('predicted label');\n",
    "plt.show()\n",
    "\n",
    "# report\n",
    "print(classification_report(test[\"target\"], test[\"predicted\"]))"
   ]
  },
  {
   "cell_type": "markdown",
   "metadata": {},
   "source": [
    "# Top 10 words that are most indicative of \n",
    "### - high salary\n",
    "### - low salary"
   ]
  },
  {
   "cell_type": "code",
   "execution_count": 17,
   "metadata": {},
   "outputs": [
    {
     "name": "stdout",
     "output_type": "stream",
     "text": [
      "\n",
      "\n",
      "Top 10 features for high salary:\n",
      "                  high       low      diff\n",
      "chef         -3.425212 -6.270988  2.845776\n",
      "supervisory  -3.712894 -6.270988  2.558094\n",
      "quote        -3.862426 -6.270988  2.408562\n",
      "caring       -3.895216 -6.270988  2.375773\n",
      "contributory -3.964209 -6.270988  2.306780\n",
      "saturday     -4.000576 -6.270988  2.270412\n",
      "operative    -4.038317 -6.270988  2.232672\n",
      "uniform      -4.077537 -6.270988  2.193451\n",
      "guest        -4.077537 -6.270988  2.193451\n",
      "answering    -4.118359 -6.270988  2.152629\n",
      "\n",
      "\n",
      "Top 10 features for low salary:\n",
      "                   high       low      diff\n",
      "architecting  -7.296413 -4.661551 -2.634863\n",
      "togaf         -7.296413 -4.661551 -2.634863\n",
      "presales      -6.197801 -3.437775 -2.760026\n",
      "semiconductor -7.296413 -4.479229 -2.817184\n",
      "cissp         -7.296413 -4.479229 -2.817184\n",
      "prison        -7.296413 -4.479229 -2.817184\n",
      "ops           -7.296413 -4.479229 -2.817184\n",
      "roadmaps      -7.296413 -4.325078 -2.971335\n",
      "gaap          -7.296413 -4.325078 -2.971335\n",
      "bidding       -7.296413 -4.325078 -2.971335\n"
     ]
    },
    {
     "data": {
      "image/png": "[encoded data removed]",
      "text/plain": [
       "<Figure size 1000x500 with 1 Axes>"
      ]
     },
     "metadata": {},
     "output_type": "display_data"
    },
    {
     "data": {
      "image/png": "[encoded data removed]",
      "text/plain": [
       "<Figure size 1000x500 with 1 Axes>"
      ]
     },
     "metadata": {},
     "output_type": "display_data"
    }
   ],
   "source": [
    "# top 10 features for high and low salary\n",
    "# Extract the feature names from the TF-IDF vectorizer\n",
    "feature_names = np.array(binary_vectorizer.get_feature_names_out())\n",
    "\n",
    "# Extract the feature log probabilities from the Naive Bayes model\n",
    "feature_log_prob = model.feature_log_prob_\n",
    "\n",
    "# Create a DataFrame of the features and their log probabilities\n",
    "feature_prob = pd.DataFrame({'high': feature_log_prob[1], 'low': feature_log_prob[0]}, index=feature_names)\n",
    "\n",
    "\n",
    "# Sort the features by the difference in log probabilities\n",
    "feature_prob['diff'] = feature_prob['high'] - feature_prob['low']\n",
    "feature_prob = feature_prob.sort_values('diff', ascending=False)\n",
    "\n",
    "# Print the top 10 features for high and low salary\n",
    "print('\\n\\nTop 10 features for high salary:')\n",
    "print(feature_prob.head(10))\n",
    "\n",
    "# Print the top 10 features for low salary\n",
    "print('\\n\\nTop 10 features for low salary:')\n",
    "print(feature_prob.tail(10))\n",
    "\n",
    "# plot the top 10 features for high and low salary\n",
    "# Plot the top 10 features for high salary\n",
    "plt.figure(figsize=(10, 5))\n",
    "plt.barh(feature_prob.index[:10], feature_prob['diff'].head(10))\n",
    "plt.xlabel('Difference in log probabilities')\n",
    "plt.title('Top 10 features for high salary')\n",
    "plt.show()\n",
    "\n",
    "# Plot the top 10 features for low salary\n",
    "plt.figure(figsize=(10, 5))\n",
    "plt.barh(feature_prob.index[-10:], feature_prob['diff'].tail(10))\n",
    "plt.xlabel('Difference in log probabilities')\n",
    "plt.title('Top 10 features for low salary')\n",
    "plt.show()"
   ]
  },
  {
   "cell_type": "markdown",
   "metadata": {},
   "source": [
    "# To increase the accuracy of the model above, I can accomplish following things using the dataset you have\n",
    "\n",
    "- Use Other vecotrizors like TfidfVectorizer, Word2Vec, BERT\n",
    "- Run GridSearchCV to find the best hyperparameters\n",
    "- Use other models like Logistic Regression, Random Forest, SVM, LightGBM, XGBoost etc.\n",
    "- Create more features from the dataset like length of the text, number of words, number of characters etc."
   ]
  },
  {
   "cell_type": "markdown",
   "metadata": {},
   "source": [
    "------------------\n",
    "## Implementing TF-IDF Vectorizer and running GridSearchCV to find the best hyperparameters"
   ]
  },
  {
   "cell_type": "markdown",
   "metadata": {},
   "source": [
    "## TF-IDF Vectorizer"
   ]
  },
  {
   "cell_type": "code",
   "execution_count": 18,
   "metadata": {},
   "outputs": [
    {
     "name": "stdout",
     "output_type": "stream",
     "text": [
      "X_train.shape, X_test.shape:\n",
      "\n",
      " (2000, 14077) (500, 14077)\n"
     ]
    },
    {
     "data": {
      "text/html": [
       "<div>\n",
       "<style scoped>\n",
       "    .dataframe tbody tr th:only-of-type {\n",
       "        vertical-align: middle;\n",
       "    }\n",
       "\n",
       "    .dataframe tbody tr th {\n",
       "        vertical-align: top;\n",
       "    }\n",
       "\n",
       "    .dataframe thead th {\n",
       "        text-align: right;\n",
       "    }\n",
       "</style>\n",
       "<table border=\"1\" class=\"dataframe\">\n",
       "  <thead>\n",
       "    <tr style=\"text-align: right;\">\n",
       "      <th></th>\n",
       "      <th>aa</th>\n",
       "      <th>aaappointments</th>\n",
       "      <th>aacsb</th>\n",
       "      <th>aand</th>\n",
       "      <th>aar</th>\n",
       "      <th>aaron</th>\n",
       "      <th>aarosettehighlands</th>\n",
       "      <th>aat</th>\n",
       "      <th>ab</th>\n",
       "      <th>abbas</th>\n",
       "      <th>...</th>\n",
       "      <th>zigbee</th>\n",
       "      <th>zinc</th>\n",
       "      <th>zipped</th>\n",
       "      <th>zk</th>\n",
       "      <th>zm</th>\n",
       "      <th>zn</th>\n",
       "      <th>zoe</th>\n",
       "      <th>zone</th>\n",
       "      <th>zu</th>\n",
       "      <th>zxtm</th>\n",
       "    </tr>\n",
       "  </thead>\n",
       "  <tbody>\n",
       "    <tr>\n",
       "      <th>0</th>\n",
       "      <td>0.0</td>\n",
       "      <td>0.0</td>\n",
       "      <td>0.0</td>\n",
       "      <td>0.0</td>\n",
       "      <td>0.0</td>\n",
       "      <td>0.0</td>\n",
       "      <td>0.0</td>\n",
       "      <td>0.0</td>\n",
       "      <td>0.0</td>\n",
       "      <td>0.0</td>\n",
       "      <td>...</td>\n",
       "      <td>0.0</td>\n",
       "      <td>0.0</td>\n",
       "      <td>0.0</td>\n",
       "      <td>0.0</td>\n",
       "      <td>0.0</td>\n",
       "      <td>0.0</td>\n",
       "      <td>0.0</td>\n",
       "      <td>0.0</td>\n",
       "      <td>0.0</td>\n",
       "      <td>0.0</td>\n",
       "    </tr>\n",
       "    <tr>\n",
       "      <th>1</th>\n",
       "      <td>0.0</td>\n",
       "      <td>0.0</td>\n",
       "      <td>0.0</td>\n",
       "      <td>0.0</td>\n",
       "      <td>0.0</td>\n",
       "      <td>0.0</td>\n",
       "      <td>0.0</td>\n",
       "      <td>0.0</td>\n",
       "      <td>0.0</td>\n",
       "      <td>0.0</td>\n",
       "      <td>...</td>\n",
       "      <td>0.0</td>\n",
       "      <td>0.0</td>\n",
       "      <td>0.0</td>\n",
       "      <td>0.0</td>\n",
       "      <td>0.0</td>\n",
       "      <td>0.0</td>\n",
       "      <td>0.0</td>\n",
       "      <td>0.0</td>\n",
       "      <td>0.0</td>\n",
       "      <td>0.0</td>\n",
       "    </tr>\n",
       "    <tr>\n",
       "      <th>2</th>\n",
       "      <td>0.0</td>\n",
       "      <td>0.0</td>\n",
       "      <td>0.0</td>\n",
       "      <td>0.0</td>\n",
       "      <td>0.0</td>\n",
       "      <td>0.0</td>\n",
       "      <td>0.0</td>\n",
       "      <td>0.0</td>\n",
       "      <td>0.0</td>\n",
       "      <td>0.0</td>\n",
       "      <td>...</td>\n",
       "      <td>0.0</td>\n",
       "      <td>0.0</td>\n",
       "      <td>0.0</td>\n",
       "      <td>0.0</td>\n",
       "      <td>0.0</td>\n",
       "      <td>0.0</td>\n",
       "      <td>0.0</td>\n",
       "      <td>0.0</td>\n",
       "      <td>0.0</td>\n",
       "      <td>0.0</td>\n",
       "    </tr>\n",
       "    <tr>\n",
       "      <th>3</th>\n",
       "      <td>0.0</td>\n",
       "      <td>0.0</td>\n",
       "      <td>0.0</td>\n",
       "      <td>0.0</td>\n",
       "      <td>0.0</td>\n",
       "      <td>0.0</td>\n",
       "      <td>0.0</td>\n",
       "      <td>0.0</td>\n",
       "      <td>0.0</td>\n",
       "      <td>0.0</td>\n",
       "      <td>...</td>\n",
       "      <td>0.0</td>\n",
       "      <td>0.0</td>\n",
       "      <td>0.0</td>\n",
       "      <td>0.0</td>\n",
       "      <td>0.0</td>\n",
       "      <td>0.0</td>\n",
       "      <td>0.0</td>\n",
       "      <td>0.0</td>\n",
       "      <td>0.0</td>\n",
       "      <td>0.0</td>\n",
       "    </tr>\n",
       "    <tr>\n",
       "      <th>4</th>\n",
       "      <td>0.0</td>\n",
       "      <td>0.0</td>\n",
       "      <td>0.0</td>\n",
       "      <td>0.0</td>\n",
       "      <td>0.0</td>\n",
       "      <td>0.0</td>\n",
       "      <td>0.0</td>\n",
       "      <td>0.0</td>\n",
       "      <td>0.0</td>\n",
       "      <td>0.0</td>\n",
       "      <td>...</td>\n",
       "      <td>0.0</td>\n",
       "      <td>0.0</td>\n",
       "      <td>0.0</td>\n",
       "      <td>0.0</td>\n",
       "      <td>0.0</td>\n",
       "      <td>0.0</td>\n",
       "      <td>0.0</td>\n",
       "      <td>0.0</td>\n",
       "      <td>0.0</td>\n",
       "      <td>0.0</td>\n",
       "    </tr>\n",
       "  </tbody>\n",
       "</table>\n",
       "<p>5 rows × 14077 columns</p>\n",
       "</div>"
      ],
      "text/plain": [
       "    aa  aaappointments  aacsb  aand  aar  aaron  aarosettehighlands  aat   ab  \\\n",
       "0  0.0             0.0    0.0   0.0  0.0    0.0                 0.0  0.0  0.0   \n",
       "1  0.0             0.0    0.0   0.0  0.0    0.0                 0.0  0.0  0.0   \n",
       "2  0.0             0.0    0.0   0.0  0.0    0.0                 0.0  0.0  0.0   \n",
       "3  0.0             0.0    0.0   0.0  0.0    0.0                 0.0  0.0  0.0   \n",
       "4  0.0             0.0    0.0   0.0  0.0    0.0                 0.0  0.0  0.0   \n",
       "\n",
       "   abbas  ...  zigbee  zinc  zipped   zk   zm   zn  zoe  zone   zu  zxtm  \n",
       "0    0.0  ...     0.0   0.0     0.0  0.0  0.0  0.0  0.0   0.0  0.0   0.0  \n",
       "1    0.0  ...     0.0   0.0     0.0  0.0  0.0  0.0  0.0   0.0  0.0   0.0  \n",
       "2    0.0  ...     0.0   0.0     0.0  0.0  0.0  0.0  0.0   0.0  0.0   0.0  \n",
       "3    0.0  ...     0.0   0.0     0.0  0.0  0.0  0.0  0.0   0.0  0.0   0.0  \n",
       "4    0.0  ...     0.0   0.0     0.0  0.0  0.0  0.0  0.0   0.0  0.0   0.0  \n",
       "\n",
       "[5 rows x 14077 columns]"
      ]
     },
     "execution_count": 18,
     "metadata": {},
     "output_type": "execute_result"
    }
   ],
   "source": [
    "# Making word Embeddings Using TF-IDF\n",
    "# Create a TF-IDF vectorizer\n",
    "vectorizer = TfidfVectorizer()\n",
    "# Fit the vectorizer to the training data\n",
    "X_train = vectorizer.fit_transform(train['FullDescription'])\n",
    "\n",
    "# Transform the test data\n",
    "X_test = vectorizer.transform(test['FullDescription'])\n",
    "\n",
    "print('X_train.shape, X_test.shape:\\n\\n',X_train.shape, X_test.shape)\n",
    "\n",
    "# Convert arrays to dense format.\n",
    "if hasattr(X_train, 'toarray'):\n",
    "    X_train_dense = X_train.toarray()\n",
    "else:\n",
    "    X_train_dense = X_train  # If X_train is already a dense array, use it directly.\n",
    "\n",
    "if hasattr(X_test, 'toarray'):\n",
    "    X_test_dense = X_test.toarray()\n",
    "else:\n",
    "    X_test_dense = X_test  # If X_test is already a dense array, use it directly.\n",
    "\n",
    "# Now, create pandas DataFrames with column names from the vectorizer.\n",
    "X_train_df = pd.DataFrame(X_train_dense, columns=vectorizer.get_feature_names_out())\n",
    "X_test_df = pd.DataFrame(X_test_dense, columns=vectorizer.get_feature_names_out())\n",
    "\n",
    "# Display the first few rows of X_train_df to verify.\n",
    "X_train_df.head()"
   ]
  },
  {
   "cell_type": "markdown",
   "metadata": {},
   "source": [
    "## Using Multinomial Naive Bayes since the predictor variables are not binary"
   ]
  },
  {
   "cell_type": "code",
   "execution_count": 20,
   "metadata": {},
   "outputs": [
    {
     "name": "stdout",
     "output_type": "stream",
     "text": [
      "test accuracy: 0.746\n"
     ]
    }
   ],
   "source": [
    "# Train on MultinomialNB\n",
    "model_2 = MultinomialNB()\n",
    "model_2.fit(X_train, train['target'])\n",
    "train['predicted'] = model_2.predict(X_train)\n",
    "test['predicted'] = model_2.predict(X_test)\n",
    "\n",
    "test_accuracy = accuracy_score(test['target'], test['predicted'])\n",
    "\n",
    "print('test accuracy:', test_accuracy)"
   ]
  },
  {
   "cell_type": "markdown",
   "metadata": {},
   "source": [
    "# Hyperparameter tuning"
   ]
  },
  {
   "cell_type": "code",
   "execution_count": 23,
   "metadata": {},
   "outputs": [
    {
     "name": "stdout",
     "output_type": "stream",
     "text": [
      "Best hyperparameters: {'multinomialnb__alpha': 0.1, 'tfidfvectorizer__max_features': 10000, 'tfidfvectorizer__ngram_range': (1, 1), 'tfidfvectorizer__norm': 'l2', 'tfidfvectorizer__use_idf': True}\n",
      "Best cross-validation score: 0.8009999999999999\n",
      "Test score: 0.82\n",
      "Test accuracy: 0.82\n"
     ]
    }
   ],
   "source": [
    "# hyperparameter tuning for TF-IDF and MultinomialNB\n",
    "# Create a pipeline\n",
    "model_tuned = make_pipeline(TfidfVectorizer(), MultinomialNB())\n",
    "\n",
    "# Create a grid of hyperparameters\n",
    "param_grid = {\n",
    "    'tfidfvectorizer__ngram_range': [(1, 1), (1, 2), (1, 3)],\n",
    "    'tfidfvectorizer__max_features': [1000, 10000, 30000],\n",
    "    'tfidfvectorizer__use_idf': [True, False],\n",
    "    'tfidfvectorizer__norm': ['l1', 'l2'],\n",
    "    'multinomialnb__alpha': [0.1, 1, 10]\n",
    "}\n",
    "\n",
    "# Perform a grid search of the pipeline\n",
    "grid = GridSearchCV(model_tuned, param_grid, cv=5, n_jobs=-1)\n",
    "grid.fit(train['FullDescription'], train['target'])\n",
    "\n",
    "# Print the best hyperparameters\n",
    "print('Best hyperparameters:', grid.best_params_)\n",
    "print('Best cross-validation score:', grid.best_score_)\n",
    "print('Test score:', grid.score(test['FullDescription'], test['target']))\n",
    "\n",
    "# Predict the target\n",
    "train['predicted'] = grid.predict(train['FullDescription'])\n",
    "test['predicted'] = grid.predict(test['FullDescription'])\n",
    "\n",
    "# Calculate the accuracy\n",
    "test_accuracy = accuracy_score(test['target'], test['predicted'])\n",
    "print('Test accuracy:', test_accuracy)"
   ]
  },
  {
   "cell_type": "code",
   "execution_count": 24,
   "metadata": {},
   "outputs": [
    {
     "name": "stdout",
     "output_type": "stream",
     "text": [
      "Best hyperparameters: {'bernoullinb__alpha': 0.1, 'countvectorizer__binary': False, 'countvectorizer__max_features': 30000, 'countvectorizer__ngram_range': (1, 2)}\n",
      "Best cross-validation score: 0.8035\n",
      "Test score: 0.802\n",
      "Test accuracy: 0.802\n"
     ]
    }
   ],
   "source": [
    "# hyperparameter tuning for count vectorizer and BernoulliNB\n",
    "\n",
    "# Create a pipeline\n",
    "model_tuned_2 = make_pipeline(CountVectorizer(), BernoulliNB())\n",
    "\n",
    "# Create a grid of hyperparameters\n",
    "param_grid_2 = {\n",
    "    'countvectorizer__ngram_range': [(1, 1), (1, 2), (1, 3)],\n",
    "    'countvectorizer__max_features': [1000, 10000, 30000],\n",
    "    'countvectorizer__binary': [True, False],\n",
    "    'bernoullinb__alpha': [0.1, 1, 10]\n",
    "}\n",
    "\n",
    "# Perform a grid search of the pipeline\n",
    "grid_2 = GridSearchCV(model_tuned_2, param_grid_2, cv=5, n_jobs=-1)\n",
    "grid_2.fit(train['FullDescription'], train['target'])\n",
    "\n",
    "# Print the best hyperparameters\n",
    "print('Best hyperparameters:', grid_2.best_params_)\n",
    "print('Best cross-validation score:', grid_2.best_score_)\n",
    "print('Test score:', grid_2.score(test['FullDescription'], test['target']))\n",
    "\n",
    "# Predict the target\n",
    "train['predicted'] = grid_2.predict(train['FullDescription'])\n",
    "test['predicted'] = grid_2.predict(test['FullDescription'])\n",
    "\n",
    "# Calculate the accuracy\n",
    "test_accuracy = accuracy_score(test['target'], test['predicted'])\n",
    "print('Test accuracy:', test_accuracy)\n"
   ]
  },
  {
   "cell_type": "markdown",
   "metadata": {},
   "source": [
    "## Conclusion\n",
    "\n",
    "Our Best Model is the one created using TF-IDF Vectorizer and Multinomial Naive Bayes with the following hyperparameters\n",
    "\n",
    "Best hyperparameters: \n",
    "- 'multinomialnb__alpha': 0.1, \n",
    "- 'tfidfvectorizer__max_features': 10000, \n",
    "- 'tfidfvectorizer__ngram_range': (1, 1), \n",
    "- 'tfidfvectorizer__norm': 'l2', \n",
    "- 'tfidfvectorizer__use_idf': True\n",
    "\n",
    "Test accuracy: 82%\n",
    "\n",
    "The accuracy increased from 79.80% when we used the Count Vectorizer with Bernoulli Naive Bayes to 82% when we used the TF-IDF Vectorizer with Multinomial Naive Bayes optimized using GridSearchCV."
   ]
  }
 ],
 "metadata": {
  "kernelspec": {
   "display_name": "Python 3",
   "language": "python",
   "name": "python3"
  },
  "language_info": {
   "codemirror_mode": {
    "name": "ipython",
    "version": 3
   },
   "file_extension": ".py",
   "mimetype": "text/x-python",
   "name": "python",
   "nbconvert_exporter": "python",
   "pygments_lexer": "ipython3",
   "version": "3.9.6"
  }
 },
 "nbformat": 4,
 "nbformat_minor": 2
}
